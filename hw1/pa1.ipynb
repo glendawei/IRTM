{
  "cells": [
    {
      "cell_type": "code",
      "execution_count": 5,
      "metadata": {
        "colab": {
          "base_uri": "https://localhost:8080/"
        },
        "id": "JVlW9_3kS8lC",
        "outputId": "f15bcc01-54d7-4aa8-92e0-e056482fb47c"
      },
      "outputs": [
        {
          "name": "stdout",
          "output_type": "stream",
          "text": [
            "Drive already mounted at /content/drive; to attempt to forcibly remount, call drive.mount(\"/content/drive\", force_remount=True).\n"
          ]
        }
      ],
      "source": [
        "from google.colab import drive\n",
        "drive.mount('/content/drive')\n",
        "\n",
        "import pandas as pd\n",
        "import numpy as np\n",
        "from nltk.stem import PorterStemmer\n",
        "\n",
        "\n",
        "\n",
        "file_path = './1.txt'\n",
        "#google colab 並不適合使用相對路徑\n",
        "#file_path = '/content/drive/My Drive/1.txt'\n",
        "#google colab絕對路徑\n",
        "stopword_file = '/content/drive/My Drive/stopwords.txt'\n",
        "\n",
        "\n",
        "# Load stopwords from file\n",
        "with open(stopword_file, 'r') as f:\n",
        "    stop_words = set(line.strip().lower() for line in f if line.strip())\n",
        "\n",
        "\n",
        "with open(file_path, 'r') as f:\n",
        "    text = f.read()\n",
        "\n",
        "# Tokenization\n",
        "tokens = text.split()\n",
        "\n",
        "# Lowercasing everyting\n",
        "tokens = [word.lower() for word in tokens]\n",
        "# Create a Porter Stemmer instance\n",
        "porter_stemmer = PorterStemmer()\n",
        "# Filtering stopwords and stemming\n",
        "filtered_tokens = [porter_stemmer.stem(word) for word in tokens if word.isalnum() and word not in stop_words]\n",
        "\n",
        "# Save processed terms to output file\n",
        "output_file = '/content/drive/My Drive/result.txt'\n",
        "with open(output_file, 'w') as f:\n",
        "    f.write(' '.join(filtered_tokens))\n",
        "\n",
        "\n"
      ]
    }
  ],
  "metadata": {
    "colab": {
      "provenance": []
    },
    "kernelspec": {
      "display_name": "Python 3",
      "name": "python3"
    },
    "language_info": {
      "name": "python"
    }
  },
  "nbformat": 4,
  "nbformat_minor": 0
}
